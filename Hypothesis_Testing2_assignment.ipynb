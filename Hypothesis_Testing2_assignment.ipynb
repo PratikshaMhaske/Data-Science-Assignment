{
  "nbformat": 4,
  "nbformat_minor": 0,
  "metadata": {
    "colab": {
      "provenance": []
    },
    "kernelspec": {
      "name": "python3",
      "display_name": "Python 3"
    },
    "language_info": {
      "name": "python"
    }
  },
  "cells": [
    {
      "cell_type": "code",
      "execution_count": 1,
      "metadata": {
        "colab": {
          "base_uri": "https://localhost:8080/"
        },
        "id": "gndsUJP_NVPr",
        "outputId": "f4027932-b6f3-436d-9eff-3720464250ee"
      },
      "outputs": [
        {
          "output_type": "stream",
          "name": "stdout",
          "text": [
            "Theoretical mean weekly cost (μ_w): 4000\n",
            "Sample mean (x̄): 3050\n",
            "Standard deviation of W (σ_w): 125\n",
            "Standard Error (SE): 25.0\n",
            "Test Statistic (z): -38.0\n",
            "Critical Value (z_crit): 1.6448536269514722\n",
            "p-value: 1.0\n",
            "Fail to Reject H0: No evidence that weekly costs are higher.\n"
          ]
        }
      ],
      "source": [
        "import math\n",
        "from scipy import stats\n",
        "\n",
        "# Given values\n",
        "x_bar = 3050        # sample mean weekly cost\n",
        "mu_x = 600          # mean units produced\n",
        "sigma_x = 25        # std dev of units produced\n",
        "n = 25              # sample size\n",
        "\n",
        "# Step 1: Theoretical mean weekly cost according to model\n",
        "mu_w = 1000 + 5 * mu_x   # model mean\n",
        "sigma_w = 5 * sigma_x    # std dev of weekly cost\n",
        "\n",
        "# Step 2: Standard error and test statistic\n",
        "SE = sigma_w / math.sqrt(n)\n",
        "z = (x_bar - mu_w) / SE\n",
        "\n",
        "# Step 3: p-value for right-tailed test\n",
        "p_value = 1 - stats.norm.cdf(z)\n",
        "\n",
        "# Step 4: Critical value for alpha = 0.05 (right-tailed)\n",
        "alpha = 0.05\n",
        "z_crit = stats.norm.ppf(1 - alpha)\n",
        "\n",
        "# Print results\n",
        "print(\"Theoretical mean weekly cost (μ_w):\", mu_w)\n",
        "print(\"Sample mean (x̄):\", x_bar)\n",
        "print(\"Standard deviation of W (σ_w):\", sigma_w)\n",
        "print(\"Standard Error (SE):\", SE)\n",
        "print(\"Test Statistic (z):\", z)\n",
        "print(\"Critical Value (z_crit):\", z_crit)\n",
        "print(\"p-value:\", p_value)\n",
        "\n",
        "# Step 5: Decision\n",
        "if z > z_crit:\n",
        "    print(\"Reject H0: There is evidence that weekly costs are higher.\")\n",
        "else:\n",
        "    print(\"Fail to Reject H0: No evidence that weekly costs are higher.\")"
      ]
    }
  ]
}