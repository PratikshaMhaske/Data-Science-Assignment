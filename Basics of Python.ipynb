{
  "nbformat": 4,
  "nbformat_minor": 0,
  "metadata": {
    "colab": {
      "provenance": []
    },
    "kernelspec": {
      "name": "python3",
      "display_name": "Python 3"
    },
    "language_info": {
      "name": "python"
    }
  },
  "cells": [
    {
      "cell_type": "markdown",
      "source": [
        "Exercise 1: Prime Numbers\n",
        "Write a Python program that checks whether a given number is prime or not. A prime number is a natural number greater than 1 that has no positive divisors other than 1 and itself.\n"
      ],
      "metadata": {
        "id": "Pgv8oLJHmkGi"
      }
    },
    {
      "cell_type": "code",
      "source": [
        "# prime number\n",
        "num=int(input(\"Enter num Value: \"))\n",
        "\n",
        "if num>1:\n",
        "  for i in range(2,num):\n",
        "    if(num%i==0):\n",
        "      print(num, \"is not prime number\")\n",
        "      break\n",
        "  else:\n",
        "    print(num, \"is a prime number\")\n",
        "else:\n",
        "   print(\"number is not prime\")"
      ],
      "metadata": {
        "colab": {
          "base_uri": "https://localhost:8080/"
        },
        "id": "BrAUChrYqmiE",
        "outputId": "4a49b58c-5d4c-4626-9614-9bab882ecc72"
      },
      "execution_count": 10,
      "outputs": [
        {
          "output_type": "stream",
          "name": "stdout",
          "text": [
            "23 is a prime number\n",
            "Enter num Value: 33\n",
            "33 is not prime number\n"
          ]
        }
      ]
    },
    {
      "cell_type": "markdown",
      "source": [
        "Exercise 2: Product of Random Numbers\n",
        "Develop a Python program that generates two random numbers and asks the user to enter the product of these numbers. The program should then check if the user's answer is correct and display an appropriate message.\n"
      ],
      "metadata": {
        "id": "zTMjUv9tmnzA"
      }
    },
    {
      "cell_type": "code",
      "execution_count": 4,
      "metadata": {
        "id": "wb_1-ylojVup",
        "colab": {
          "base_uri": "https://localhost:8080/"
        },
        "outputId": "63ccb56f-f02c-48aa-cb74-67847e6b6281"
      },
      "outputs": [
        {
          "output_type": "stream",
          "name": "stdout",
          "text": [
            "what is  8 * 10 ?\n",
            "Enter your answer: 3\n",
            "Wrong the correct answer is:  80\n"
          ]
        }
      ],
      "source": [
        "import random\n",
        "num1=random.randint(1,10)\n",
        "num2=random.randint(1,10)\n",
        "print(\"what is \",num1, \"*\" ,num2, \"?\")\n",
        "\n",
        "user_answer = int(input(\"Enter your answer: \"))\n",
        "Correct_Answer=num1*num2\n",
        "if user_answer==Correct_Answer:\n",
        "  print(\"Correct\")\n",
        "else:\n",
        "  print(\"Wrong the correct answer is: \",Correct_Answer)"
      ]
    },
    {
      "cell_type": "markdown",
      "source": [
        "Exercise 3: Squares of Even/Odd Numbers\n",
        "Create a Python script that prints the squares of all even or odd numbers within the range of 100 to 200. Choose either even or odd numbers and document your choice in the code.\n"
      ],
      "metadata": {
        "id": "BQgjUtqJmtnk"
      }
    },
    {
      "cell_type": "code",
      "source": [
        "for i in range(100,201):\n",
        "  # if i%2==0:  for Even numbers\n",
        "  if i%2!=0:\n",
        "    print(i**2)\n"
      ],
      "metadata": {
        "colab": {
          "base_uri": "https://localhost:8080/"
        },
        "id": "K-Le7g8Gs4ky",
        "outputId": "bce50d72-7e14-4438-f96f-d7a897da1e80"
      },
      "execution_count": 5,
      "outputs": [
        {
          "output_type": "stream",
          "name": "stdout",
          "text": [
            "10201\n",
            "10609\n",
            "11025\n",
            "11449\n",
            "11881\n",
            "12321\n",
            "12769\n",
            "13225\n",
            "13689\n",
            "14161\n",
            "14641\n",
            "15129\n",
            "15625\n",
            "16129\n",
            "16641\n",
            "17161\n",
            "17689\n",
            "18225\n",
            "18769\n",
            "19321\n",
            "19881\n",
            "20449\n",
            "21025\n",
            "21609\n",
            "22201\n",
            "22801\n",
            "23409\n",
            "24025\n",
            "24649\n",
            "25281\n",
            "25921\n",
            "26569\n",
            "27225\n",
            "27889\n",
            "28561\n",
            "29241\n",
            "29929\n",
            "30625\n",
            "31329\n",
            "32041\n",
            "32761\n",
            "33489\n",
            "34225\n",
            "34969\n",
            "35721\n",
            "36481\n",
            "37249\n",
            "38025\n",
            "38809\n",
            "39601\n"
          ]
        }
      ]
    },
    {
      "cell_type": "markdown",
      "source": [
        "Exercise 4: Word counter\n",
        "write a program to count the number of words in a given text.\n",
        "example:\n",
        "input_text = \"This is a sample text. This text will be used to demonstrate the word counter.\"\n",
        "Expected output:\n",
        "'This': 2\n",
        "'is': 1\n",
        "'a': 1\n",
        "'sample': 1\n",
        "'text.': 1"
      ],
      "metadata": {
        "id": "H7iv9B0Vmz7N"
      }
    },
    {
      "cell_type": "code",
      "source": [
        "def word_counter(text):\n",
        "    words = text.split()\n",
        "    freq = {}\n",
        "    for w in words:\n",
        "        freq[w] = freq.get(w, 0) + 1\n",
        "    return freq\n",
        "\n",
        "input_text = \"This is a sample text. This text will be used to demonstrate the word counter.\"\n",
        "print(word_counter(input_text))\n"
      ],
      "metadata": {
        "colab": {
          "base_uri": "https://localhost:8080/"
        },
        "id": "yejMGDkHmEpL",
        "outputId": "dc930df1-e7ba-4898-df49-d67cecfdcc58"
      },
      "execution_count": 6,
      "outputs": [
        {
          "output_type": "stream",
          "name": "stdout",
          "text": [
            "{'This': 2, 'is': 1, 'a': 1, 'sample': 1, 'text.': 1, 'text': 1, 'will': 1, 'be': 1, 'used': 1, 'to': 1, 'demonstrate': 1, 'the': 1, 'word': 1, 'counter.': 1}\n"
          ]
        }
      ]
    },
    {
      "cell_type": "markdown",
      "source": [
        "Exercise 5: Check for Palindrome\n",
        "Write a Python function called is_palindrome that takes a string as input and returns True if the string is a palindrome, and False otherwise. A palindrome is a word, phrase, number, or other sequence of characters that reads the same forward and backward, ignoring spaces, punctuation, and capitalization.\n"
      ],
      "metadata": {
        "id": "E7SusHmmm37e"
      }
    },
    {
      "cell_type": "code",
      "source": [
        "def is_palindrome(name):\n",
        "  return name==name[::-1]\n",
        "print(is_palindrome(\"madam\"))"
      ],
      "metadata": {
        "colab": {
          "base_uri": "https://localhost:8080/"
        },
        "id": "F5SCrjoXyNjv",
        "outputId": "5ec5b064-ecd9-45c2-e718-f451339f0a03"
      },
      "execution_count": 7,
      "outputs": [
        {
          "output_type": "stream",
          "name": "stdout",
          "text": [
            "True\n"
          ]
        }
      ]
    },
    {
      "cell_type": "code",
      "source": [
        "# #Hospital Billing System\n",
        "\n",
        "# Room_Charges_Per_Day=2000\n",
        "# Doctor_Consultation_Fee=1500\n",
        "# Lab_Test_Charges=300\n",
        "# Medicine_Charges=2400\n",
        "\n",
        "# stayed=4*2000\n",
        "# Lab_Test=3*300\n",
        "\n",
        "# Total_Before_Discount=stayed+Lab_Test+Doctor_Consultation_Fee+Medicine_Charges\n",
        "# print(\"Total Before Discount is: \",Total_Before_Discount)\n",
        "\n",
        "# #Discount\n",
        "# if Total_Before_Discount>10000:\n",
        "#   Discount=Total_Before_Discount*0.1\n",
        "#   print(\"Total Discount got is: \",Discount)\n",
        "#   Final_bill=Total_Before_Discount-Discount\n",
        "\n",
        "#   print(\"Total amount is\",Final_bill)"
      ],
      "metadata": {
        "id": "KNRqYtYH-mvC"
      },
      "execution_count": 8,
      "outputs": []
    }
  ]
}
