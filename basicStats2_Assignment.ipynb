{
  "nbformat": 4,
  "nbformat_minor": 0,
  "metadata": {
    "colab": {
      "provenance": []
    },
    "kernelspec": {
      "name": "python3",
      "display_name": "Python 3"
    },
    "language_info": {
      "name": "python"
    }
  },
  "cells": [
    {
      "cell_type": "code",
      "source": [
        "import numpy as np\n",
        "import scipy.stats as st"
      ],
      "metadata": {
        "id": "E67hbP01o_Rq"
      },
      "execution_count": 1,
      "outputs": []
    },
    {
      "cell_type": "code",
      "source": [
        "data = [1.13, 1.55, 1.43, 0.92, 1.25,\n",
        "        1.36, 1.32, 0.85, 1.07, 1.48,\n",
        "        1.20, 1.33, 1.18, 1.22, 1.29]"
      ],
      "metadata": {
        "id": "bo7ETLSEpA79"
      },
      "execution_count": 2,
      "outputs": []
    },
    {
      "cell_type": "code",
      "source": [
        "mean = np.mean(data)\n",
        "n = len(data)"
      ],
      "metadata": {
        "id": "fHzkFbK4ptcQ"
      },
      "execution_count": 5,
      "outputs": []
    },
    {
      "cell_type": "code",
      "source": [
        "# (a) 99% CI with sample std (t-distribution)\n",
        "s = np.std(data, ddof=1)\n",
        "t_value = st.t.ppf(0.995, n-1)\n",
        "ci_a = (mean - t_value * s/np.sqrt(n), mean + t_value * s/np.sqrt(n))"
      ],
      "metadata": {
        "id": "SIjvyJOJpDbK"
      },
      "execution_count": 6,
      "outputs": []
    },
    {
      "cell_type": "code",
      "source": [
        "# (b) 99% CI with known sigma = 0.2 (z-distribution)\n",
        "sigma = 0.2\n",
        "z_value = st.norm.ppf(0.995)\n",
        "ci_b = (mean - z_value * sigma/np.sqrt(n), mean + z_value * sigma/np.sqrt(n))"
      ],
      "metadata": {
        "id": "cuh2kacppSiP"
      },
      "execution_count": 7,
      "outputs": []
    },
    {
      "cell_type": "code",
      "source": [
        "print(\"99% CI using sample std (t):\", ci_a)\n",
        "print(\"99% CI using sigma=0.2 (z):\", ci_b)"
      ],
      "metadata": {
        "colab": {
          "base_uri": "https://localhost:8080/"
        },
        "id": "w-zDYnTVpV7L",
        "outputId": "8cdb057c-ef3e-4d98-bf0c-0ab2a5b21661"
      },
      "execution_count": 8,
      "outputs": [
        {
          "output_type": "stream",
          "name": "stdout",
          "text": [
            "99% CI using sample std (t): (np.float64(1.0901973384384906), np.float64(1.3871359948948425))\n",
            "99% CI using sigma=0.2 (z): (np.float64(1.1056514133957607), np.float64(1.3716819199375725))\n"
          ]
        }
      ]
    }
  ]
}