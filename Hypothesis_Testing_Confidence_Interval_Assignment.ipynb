{
  "nbformat": 4,
  "nbformat_minor": 0,
  "metadata": {
    "colab": {
      "provenance": []
    },
    "kernelspec": {
      "name": "python3",
      "display_name": "Python 3"
    },
    "language_info": {
      "name": "python"
    }
  },
  "cells": [
    {
      "cell_type": "code",
      "source": [
        "import numpy as np\n",
        "from scipy import stats"
      ],
      "metadata": {
        "id": "IU1oVhKYLxkv"
      },
      "execution_count": 22,
      "outputs": []
    },
    {
      "cell_type": "code",
      "source": [
        "data = np.array([1.13, 1.55, 1.43, 0.92, 1.25,\n",
        "                 1.36, 1.32, 0.85, 1.07, 1.48,\n",
        "                 1.20, 1.33, 1.18, 1.22, 1.29])"
      ],
      "metadata": {
        "id": "itZuBTWmLxhe"
      },
      "execution_count": 23,
      "outputs": []
    },
    {
      "cell_type": "code",
      "source": [
        "n = len(data)\n",
        "mean = np.mean(data)\n",
        "std_dev = np.std(data, ddof=1)\n",
        "print(n,mean,std_dev)"
      ],
      "metadata": {
        "colab": {
          "base_uri": "https://localhost:8080/"
        },
        "id": "V-DaCRLKLxer",
        "outputId": "e3243206-cdde-4115-eae4-e1a2754eeebf"
      },
      "execution_count": 24,
      "outputs": [
        {
          "output_type": "stream",
          "name": "stdout",
          "text": [
            "15 1.2386666666666666 0.19316412956959936\n"
          ]
        }
      ]
    },
    {
      "cell_type": "code",
      "source": [
        "# Using t-distribution\n",
        "t_critical = stats.t.ppf(1 - 0.005, df=n-1)\n",
        "ci_a = (mean - t_critical * std_dev / np.sqrt(n),\n",
        "        mean + t_critical * std_dev / np.sqrt(n))"
      ],
      "metadata": {
        "id": "9eTi-BfKLxZR"
      },
      "execution_count": 25,
      "outputs": []
    },
    {
      "cell_type": "code",
      "source": [
        "# Using z-distribution (σ = 0.2)\n",
        "sigma = 0.2\n",
        "z_critical = stats.norm.ppf(1 - 0.005)\n",
        "ci_b = (mean - z_critical * sigma / np.sqrt(n),\n",
        "        mean + z_critical * sigma / np.sqrt(n))"
      ],
      "metadata": {
        "id": "zN2Kfg-fLxT7"
      },
      "execution_count": 26,
      "outputs": []
    },
    {
      "cell_type": "code",
      "source": [
        "mean, std_dev, ci_a, ci_b"
      ],
      "metadata": {
        "colab": {
          "base_uri": "https://localhost:8080/"
        },
        "id": "f2ts4Zr1LxRN",
        "outputId": "91245a58-bccc-4836-cd80-af4ec645b572"
      },
      "execution_count": 27,
      "outputs": [
        {
          "output_type": "execute_result",
          "data": {
            "text/plain": [
              "(np.float64(1.2386666666666666),\n",
              " np.float64(0.19316412956959936),\n",
              " (np.float64(1.0901973384384906), np.float64(1.3871359948948425)),\n",
              " (np.float64(1.1056514133957607), np.float64(1.3716819199375725)))"
            ]
          },
          "metadata": {},
          "execution_count": 27
        }
      ]
    },
    {
      "cell_type": "code",
      "source": [],
      "metadata": {
        "id": "LiNLSD8gLxOY"
      },
      "execution_count": 27,
      "outputs": []
    }
  ]
}